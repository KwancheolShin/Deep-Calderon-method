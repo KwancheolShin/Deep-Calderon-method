{
  "cells": [
    {
      "cell_type": "markdown",
      "metadata": {
        "id": "w1qtea6tnvxQ"
      },
      "source": [
        "\n",
        "\n",
        "```\n",
        "# This is formatted as code\n",
        "```\n",
        "\n",
        "# Train the data with initial 8192 data"
      ]
    },
    {
      "cell_type": "code",
      "source": [
        "!git config --global use.email \"kcshin3623@gmail.com\"\n",
        "!git config --global user.name \"KwancheolShin\"\n",
        "#!mkdir cucumber_project\n",
        "!cd cucumber_project\n",
        "!pwd\n",
        "\n",
        "!git clone https://github.com/KwancheolShin/Deep-Calderon-method.git\n",
        "!git commit -m \"Add Colab project\"\n",
        "!git push origin main"
      ],
      "metadata": {
        "colab": {
          "base_uri": "https://localhost:8080/"
        },
        "id": "phDs7y0ECkhO",
        "outputId": "6a79b426-74ac-4744-938a-bdebf6d1248b"
      },
      "execution_count": 16,
      "outputs": [
        {
          "output_type": "stream",
          "name": "stdout",
          "text": [
            "/content\n",
            "fatal: destination path 'Deep-Calderon-method' already exists and is not an empty directory.\n",
            "fatal: not a git repository (or any of the parent directories): .git\n",
            "fatal: not a git repository (or any of the parent directories): .git\n"
          ]
        }
      ]
    },
    {
      "cell_type": "code",
      "execution_count": 1,
      "metadata": {
        "colab": {
          "base_uri": "https://localhost:8080/"
        },
        "id": "QwdTFfXuXE11",
        "outputId": "77c15db9-f2d7-42e1-9406-e98aca6844d4"
      },
      "outputs": [
        {
          "output_type": "stream",
          "name": "stdout",
          "text": [
            "Mounted at /content/drive\n"
          ]
        }
      ],
      "source": [
        "from google.colab import drive\n",
        "drive.mount('/content/drive')"
      ]
    },
    {
      "cell_type": "markdown",
      "source": [
        "# 새 섹션"
      ],
      "metadata": {
        "id": "NUdiC4XPDbxv"
      }
    },
    {
      "cell_type": "code",
      "execution_count": null,
      "metadata": {
        "colab": {
          "base_uri": "https://localhost:8080/"
        },
        "id": "BDGwTaC1fK7r",
        "outputId": "618ed189-942f-4553-e085-6d187713d565"
      },
      "outputs": [
        {
          "output_type": "stream",
          "name": "stdout",
          "text": [
            "Looking in indexes: https://pypi.org/simple, https://us-python.pkg.dev/colab-wheels/public/simple/\n",
            "Collecting mat73\n",
            "  Downloading mat73-0.59-py3-none-any.whl (19 kB)\n",
            "Requirement already satisfied: numpy in /usr/local/lib/python3.8/dist-packages (from mat73) (1.21.6)\n",
            "Requirement already satisfied: h5py in /usr/local/lib/python3.8/dist-packages (from mat73) (3.1.0)\n",
            "Installing collected packages: mat73\n",
            "Successfully installed mat73-0.59\n"
          ]
        }
      ],
      "source": [
        "pip install mat73"
      ]
    },
    {
      "cell_type": "code",
      "execution_count": null,
      "metadata": {
        "colab": {
          "base_uri": "https://localhost:8080/"
        },
        "id": "nrvsH5LIcuyW",
        "outputId": "f85082e6-b995-4042-d27b-49725d71b93b"
      },
      "outputs": [
        {
          "output_type": "stream",
          "name": "stdout",
          "text": [
            "(64, 64, 3966)\n",
            "(64, 64, 3966)\n",
            "3966\n",
            "(3966, 64, 64, 1)\n",
            "(3966, 64, 64, 1)\n",
            "(3569, 64, 64, 1)\n",
            "(397, 64, 64, 1)\n",
            "(3569, 64, 64, 1)\n",
            "(397, 64, 64, 1)\n"
          ]
        }
      ],
      "source": [
        "\n",
        "import mat73\n",
        "from scipy.io import loadmat\n",
        "from skimage.io import imread, imshow\n",
        "import matplotlib.pyplot as plt\n",
        "import numpy as np\n",
        "\n",
        "\n",
        "C=mat73.loadmat('/content/drive/My Drive/Colab Notebooks/phantom_ccm_unif_dist_64_calib.mat');\n",
        "#print(C)\n",
        "Recon = mat73.loadmat('/content/drive/My Drive/Colab Notebooks/delta_abs_ccm_1dot3_unif_dist_64_ns01_calib.mat')\n",
        "#print(Recon)\n",
        "c_mat_import = C[\"phantom_tri_cucum_tank_multi_new\"]\n",
        "Recon_import = Recon[\"delta_abs_scaled_mat_new\"]\n",
        "\n",
        "print(Recon_import.shape)\n",
        "print(c_mat_import.shape)\n",
        "print(Recon_import.shape[2])\n",
        "\n",
        "\n",
        "\n",
        "IMG_WIDTH = 64\n",
        "IMG_HEIGHT = 64\n",
        "IMG_CHANNELS = 1\n",
        "\n",
        "X_Data = np.zeros((Recon_import.shape[2], IMG_HEIGHT, IMG_WIDTH, IMG_CHANNELS), dtype = float)\n",
        "Y_Data = np.zeros((c_mat_import.shape[2], IMG_HEIGHT,IMG_WIDTH,IMG_CHANNELS), dtype = float)\n",
        "\n",
        "iter = range(Recon_import.shape[2])\n",
        "\n",
        "for n in iter:\n",
        "\n",
        "  X_Data[n] =Recon_import[:,:,n].real.reshape(IMG_WIDTH,IMG_HEIGHT,1)\n",
        "  max_x = np.max(X_Data[n])\n",
        "  min_x = np.min(X_Data[n])\n",
        "  norm_x = max_x - min_x\n",
        "  X_Data[n] =( X_Data[n]-min_x)/norm_x\n",
        "\n",
        "\n",
        "  Y_Data[n] =c_mat_import[:,:,n].real.reshape(IMG_WIDTH,IMG_HEIGHT,1)\n",
        "  max_y = np.max(Y_Data[n])\n",
        "  min_y = np.min(Y_Data[n])\n",
        "  norm_y = max_y - min_y\n",
        "  Y_Data[n] = (Y_Data[n]-min_y)/norm_y\n",
        "\n",
        "\n",
        "print(X_Data.shape)\n",
        "print(Y_Data.shape)\n",
        "\n",
        "from sklearn.model_selection import train_test_split\n",
        "X_train, X_test, Y_train, Y_test = train_test_split(X_Data, Y_Data, test_size = 0.10, random_state = 42)\n",
        "print(X_train.shape)\n",
        "print(X_test.shape)\n",
        "print(Y_train.shape)\n",
        "print(Y_test.shape)\n"
      ]
    },
    {
      "cell_type": "code",
      "execution_count": null,
      "metadata": {
        "colab": {
          "base_uri": "https://localhost:8080/",
          "height": 374
        },
        "id": "xKnr2nM5lb6L",
        "outputId": "d95635cb-be16-4d88-f450-b0df7620b50d"
      },
      "outputs": [
        {
          "output_type": "stream",
          "name": "stdout",
          "text": [
            "971\n"
          ]
        },
        {
          "output_type": "execute_result",
          "data": {
            "text/plain": [
              "<matplotlib.colorbar.Colorbar at 0x7f388649e1c0>"
            ]
          },
          "metadata": {},
          "execution_count": 9
        },
        {
          "output_type": "display_data",
          "data": {
            "text/plain": [
              "<Figure size 864x864 with 4 Axes>"
            ],
            "image/png": "[encoded data removed]"
          },
          "metadata": {
            "needs_background": "light"
          }
        }
      ],
      "source": [
        "import matplotlib.pyplot as plt\n",
        "import random\n",
        "# Perform a sanity check on some random training samples\n",
        "xmx=np.amax(X_train)\n",
        "xmn=np.amin(X_train)\n",
        "\n",
        "ymx=np.amax(Y_train)\n",
        "ymn=np.amin(Y_train)\n",
        "\n",
        "\n",
        "ix = random.randint(0, len(X_train))\n",
        "print(ix)\n",
        "plt.figure(figsize = (12,12))\n",
        "plt.subplot(221)\n",
        "plt.imshow(np.squeeze(X_train[ix]),cmap='jet')\n",
        "plt.colorbar()\n",
        "plt.subplot(222)\n",
        "plt.imshow(np.squeeze(Y_train[ix]),cmap='jet')\n",
        "plt.colorbar()\n",
        "\n",
        "# plt.subplot(223)\n",
        "# plt.imshow(np.squeeze(X_train[ix].imag),cmap='jet')\n",
        "# plt.colorbar()\n",
        "# plt.subplot(224)\n",
        "# plt.imshow(np.squeeze(Y_train[ix].imag),cmap='jet')\n",
        "# plt.colorbar()\n",
        "# plt.show"
      ]
    },
    {
      "cell_type": "code",
      "execution_count": null,
      "metadata": {
        "colab": {
          "base_uri": "https://localhost:8080/",
          "height": 1000
        },
        "id": "YWm8FcTWl3H-",
        "outputId": "2a35c331-3ab9-4eb7-a5c9-3cb2f14e0e7d"
      },
      "outputs": [
        {
          "output_type": "stream",
          "name": "stdout",
          "text": [
            "Model: \"model_4\"\n",
            "__________________________________________________________________________________________________\n",
            " Layer (type)                   Output Shape         Param #     Connected to                     \n",
            "==================================================================================================\n",
            " input_5 (InputLayer)           [(None, 64, 64, 1)]  0           []                               \n",
            "                                                                                                  \n",
            " conv2d_76 (Conv2D)             (None, 64, 64, 64)   1664        ['input_5[0][0]']                \n",
            "                                                                                                  \n",
            " conv2d_77 (Conv2D)             (None, 64, 64, 64)   102464      ['conv2d_76[0][0]']              \n",
            "                                                                                                  \n",
            " max_pooling2d_16 (MaxPooling2D  (None, 32, 32, 64)  0           ['conv2d_77[0][0]']              \n",
            " )                                                                                                \n",
            "                                                                                                  \n",
            " conv2d_78 (Conv2D)             (None, 32, 32, 128)  204928      ['max_pooling2d_16[0][0]']       \n",
            "                                                                                                  \n",
            " conv2d_79 (Conv2D)             (None, 32, 32, 128)  409728      ['conv2d_78[0][0]']              \n",
            "                                                                                                  \n",
            " max_pooling2d_17 (MaxPooling2D  (None, 16, 16, 128)  0          ['conv2d_79[0][0]']              \n",
            " )                                                                                                \n",
            "                                                                                                  \n",
            " conv2d_80 (Conv2D)             (None, 16, 16, 256)  819456      ['max_pooling2d_17[0][0]']       \n",
            "                                                                                                  \n",
            " conv2d_81 (Conv2D)             (None, 16, 16, 256)  1638656     ['conv2d_80[0][0]']              \n",
            "                                                                                                  \n",
            " max_pooling2d_18 (MaxPooling2D  (None, 8, 8, 256)   0           ['conv2d_81[0][0]']              \n",
            " )                                                                                                \n",
            "                                                                                                  \n",
            " conv2d_82 (Conv2D)             (None, 8, 8, 512)    3277312     ['max_pooling2d_18[0][0]']       \n",
            "                                                                                                  \n",
            " conv2d_83 (Conv2D)             (None, 8, 8, 512)    6554112     ['conv2d_82[0][0]']              \n",
            "                                                                                                  \n",
            " max_pooling2d_19 (MaxPooling2D  (None, 4, 4, 512)   0           ['conv2d_83[0][0]']              \n",
            " )                                                                                                \n",
            "                                                                                                  \n",
            " conv2d_84 (Conv2D)             (None, 4, 4, 1024)   4719616     ['max_pooling2d_19[0][0]']       \n",
            "                                                                                                  \n",
            " conv2d_85 (Conv2D)             (None, 4, 4, 1024)   9438208     ['conv2d_84[0][0]']              \n",
            "                                                                                                  \n",
            " conv2d_transpose_16 (Conv2DTra  (None, 8, 8, 512)   2097664     ['conv2d_85[0][0]']              \n",
            " nspose)                                                                                          \n",
            "                                                                                                  \n",
            " concatenate_16 (Concatenate)   (None, 8, 8, 1024)   0           ['conv2d_transpose_16[0][0]',    \n",
            "                                                                  'conv2d_83[0][0]']              \n",
            "                                                                                                  \n",
            " conv2d_86 (Conv2D)             (None, 8, 8, 512)    13107712    ['concatenate_16[0][0]']         \n",
            "                                                                                                  \n",
            " conv2d_87 (Conv2D)             (None, 8, 8, 512)    6554112     ['conv2d_86[0][0]']              \n",
            "                                                                                                  \n",
            " conv2d_transpose_17 (Conv2DTra  (None, 16, 16, 256)  524544     ['conv2d_87[0][0]']              \n",
            " nspose)                                                                                          \n",
            "                                                                                                  \n",
            " concatenate_17 (Concatenate)   (None, 16, 16, 512)  0           ['conv2d_transpose_17[0][0]',    \n",
            "                                                                  'conv2d_81[0][0]']              \n",
            "                                                                                                  \n",
            " conv2d_88 (Conv2D)             (None, 16, 16, 256)  3277056     ['concatenate_17[0][0]']         \n",
            "                                                                                                  \n",
            " conv2d_89 (Conv2D)             (None, 16, 16, 256)  1638656     ['conv2d_88[0][0]']              \n",
            "                                                                                                  \n",
            " conv2d_transpose_18 (Conv2DTra  (None, 32, 32, 128)  131200     ['conv2d_89[0][0]']              \n",
            " nspose)                                                                                          \n",
            "                                                                                                  \n",
            " concatenate_18 (Concatenate)   (None, 32, 32, 256)  0           ['conv2d_transpose_18[0][0]',    \n",
            "                                                                  'conv2d_79[0][0]']              \n",
            "                                                                                                  \n",
            " conv2d_90 (Conv2D)             (None, 32, 32, 128)  819328      ['concatenate_18[0][0]']         \n",
            "                                                                                                  \n",
            " conv2d_91 (Conv2D)             (None, 32, 32, 128)  409728      ['conv2d_90[0][0]']              \n",
            "                                                                                                  \n",
            " conv2d_transpose_19 (Conv2DTra  (None, 64, 64, 64)  32832       ['conv2d_91[0][0]']              \n",
            " nspose)                                                                                          \n",
            "                                                                                                  \n",
            " concatenate_19 (Concatenate)   (None, 64, 64, 128)  0           ['conv2d_transpose_19[0][0]',    \n",
            "                                                                  'conv2d_77[0][0]']              \n",
            "                                                                                                  \n",
            " conv2d_92 (Conv2D)             (None, 64, 64, 64)   204864      ['concatenate_19[0][0]']         \n",
            "                                                                                                  \n",
            " conv2d_93 (Conv2D)             (None, 64, 64, 64)   102464      ['conv2d_92[0][0]']              \n",
            "                                                                                                  \n",
            " conv2d_94 (Conv2D)             (None, 64, 64, 1)    65          ['conv2d_93[0][0]']              \n",
            "                                                                                                  \n",
            "==================================================================================================\n",
            "Total params: 56,066,369\n",
            "Trainable params: 56,066,369\n",
            "Non-trainable params: 0\n",
            "__________________________________________________________________________________________________\n",
            "Epoch 1/100\n",
            "26/26 [==============================] - ETA: 0s - loss: 0.0327 - accuracy: 0.9387\n",
            "Epoch 1: val_loss improved from inf to 0.02007, saving model to Cal_ccm_1dot3_unif_dist_64_calib.h5\n",
            "26/26 [==============================] - 19s 670ms/step - loss: 0.0327 - accuracy: 0.9387 - val_loss: 0.0201 - val_accuracy: 0.9464 - lr: 1.0000e-04\n",
            "Epoch 2/100\n",
            "26/26 [==============================] - ETA: 0s - loss: 0.0156 - accuracy: 0.9450\n",
            "Epoch 2: val_loss improved from 0.02007 to 0.01392, saving model to Cal_ccm_1dot3_unif_dist_64_calib.h5\n",
            "26/26 [==============================] - 17s 673ms/step - loss: 0.0156 - accuracy: 0.9450 - val_loss: 0.0139 - val_accuracy: 0.9456 - lr: 1.0000e-04\n",
            "Epoch 3/100\n",
            "26/26 [==============================] - ETA: 0s - loss: 0.0130 - accuracy: 0.9472\n",
            "Epoch 3: val_loss improved from 0.01392 to 0.01240, saving model to Cal_ccm_1dot3_unif_dist_64_calib.h5\n",
            "26/26 [==============================] - 18s 676ms/step - loss: 0.0130 - accuracy: 0.9472 - val_loss: 0.0124 - val_accuracy: 0.9484 - lr: 1.0000e-04\n",
            "Epoch 4/100\n",
            "26/26 [==============================] - ETA: 0s - loss: 0.0116 - accuracy: 0.9481\n",
            "Epoch 4: val_loss improved from 0.01240 to 0.01121, saving model to Cal_ccm_1dot3_unif_dist_64_calib.h5\n",
            "26/26 [==============================] - 18s 690ms/step - loss: 0.0116 - accuracy: 0.9481 - val_loss: 0.0112 - val_accuracy: 0.9494 - lr: 1.0000e-04\n",
            "Epoch 5/100\n",
            "26/26 [==============================] - ETA: 0s - loss: 0.0101 - accuracy: 0.9493\n",
            "Epoch 5: val_loss improved from 0.01121 to 0.00949, saving model to Cal_ccm_1dot3_unif_dist_64_calib.h5\n",
            "26/26 [==============================] - 17s 668ms/step - loss: 0.0101 - accuracy: 0.9493 - val_loss: 0.0095 - val_accuracy: 0.9488 - lr: 1.0000e-04\n",
            "Epoch 6/100\n",
            "26/26 [==============================] - ETA: 0s - loss: 0.0087 - accuracy: 0.9503\n",
            "Epoch 6: val_loss improved from 0.00949 to 0.00804, saving model to Cal_ccm_1dot3_unif_dist_64_calib.h5\n",
            "26/26 [==============================] - 17s 667ms/step - loss: 0.0087 - accuracy: 0.9503 - val_loss: 0.0080 - val_accuracy: 0.9511 - lr: 1.0000e-04\n",
            "Epoch 7/100\n",
            "26/26 [==============================] - ETA: 0s - loss: 0.0081 - accuracy: 0.9504\n",
            "Epoch 7: val_loss did not improve from 0.00804\n",
            "26/26 [==============================] - 15s 592ms/step - loss: 0.0081 - accuracy: 0.9504 - val_loss: 0.0103 - val_accuracy: 0.9473 - lr: 1.0000e-04\n",
            "Epoch 8/100\n",
            "26/26 [==============================] - ETA: 0s - loss: 0.0078 - accuracy: 0.9505\n",
            "Epoch 8: val_loss improved from 0.00804 to 0.00720, saving model to Cal_ccm_1dot3_unif_dist_64_calib.h5\n",
            "26/26 [==============================] - 17s 672ms/step - loss: 0.0078 - accuracy: 0.9505 - val_loss: 0.0072 - val_accuracy: 0.9506 - lr: 1.0000e-04\n",
            "Epoch 9/100\n",
            "26/26 [==============================] - ETA: 0s - loss: 0.0071 - accuracy: 0.9510\n",
            "Epoch 9: val_loss did not improve from 0.00720\n",
            "26/26 [==============================] - 15s 590ms/step - loss: 0.0071 - accuracy: 0.9510 - val_loss: 0.0074 - val_accuracy: 0.9503 - lr: 1.0000e-04\n",
            "Epoch 10/100\n",
            "26/26 [==============================] - ETA: 0s - loss: 0.0064 - accuracy: 0.9517\n",
            "Epoch 10: val_loss improved from 0.00720 to 0.00652, saving model to Cal_ccm_1dot3_unif_dist_64_calib.h5\n",
            "26/26 [==============================] - 17s 671ms/step - loss: 0.0064 - accuracy: 0.9517 - val_loss: 0.0065 - val_accuracy: 0.9519 - lr: 1.0000e-04\n",
            "Epoch 11/100\n",
            "26/26 [==============================] - ETA: 0s - loss: 0.0061 - accuracy: 0.9520\n",
            "Epoch 11: val_loss did not improve from 0.00652\n",
            "26/26 [==============================] - 15s 586ms/step - loss: 0.0061 - accuracy: 0.9520 - val_loss: 0.0086 - val_accuracy: 0.9495 - lr: 1.0000e-04\n",
            "Epoch 12/100\n",
            "26/26 [==============================] - ETA: 0s - loss: 0.0063 - accuracy: 0.9517\n",
            "Epoch 12: val_loss did not improve from 0.00652\n",
            "26/26 [==============================] - 15s 589ms/step - loss: 0.0063 - accuracy: 0.9517 - val_loss: 0.0081 - val_accuracy: 0.9495 - lr: 1.0000e-04\n",
            "112/112 [==============================] - 8s 69ms/step\n",
            "13/13 [==============================] - 1s 68ms/step\n",
            "92\n"
          ]
        },
        {
          "output_type": "display_data",
          "data": {
            "text/plain": [
              "<Figure size 1296x432 with 6 Axes>"
            ],
            "image/png": "[encoded data removed]"
          },
          "metadata": {
            "needs_background": "light"
          }
        }
      ],
      "source": [
        "from scipy.io import loadmat\n",
        "from skimage.io import imread, imshow\n",
        "import matplotlib.pyplot as plt\n",
        "import numpy as np\n",
        "import tensorflow as tf\n",
        "import os\n",
        "import random\n",
        "from tqdm import tqdm\n",
        "from skimage.transform import resize\n",
        "from keras.optimizers import Adam\n",
        "from tensorflow.keras.callbacks import ReduceLROnPlateau\n",
        "\n",
        "from tensorflow.keras.preprocessing.image import load_img\n",
        "\n",
        "from tensorflow.keras.preprocessing.image import img_to_array\n",
        "\n",
        "seed = 42\n",
        "np.random.seed = seed\n",
        "\n",
        "#Build the model\n",
        "inputs = tf.keras.layers.Input((IMG_HEIGHT, IMG_WIDTH, IMG_CHANNELS))\n",
        "\n",
        "#Contraction path\n",
        "c1 = tf.keras.layers.Conv2D(64, (5, 5), activation='relu', kernel_initializer='he_normal', padding='same')(inputs)\n",
        "#c1 = tf.keras.layers.Dropout(0.1)(c1)\n",
        "c1 = tf.keras.layers.Conv2D(64, (5, 5), activation='relu', kernel_initializer='he_normal', padding='same')(c1)\n",
        "p1 = tf.keras.layers.MaxPooling2D((2, 2))(c1)\n",
        "\n",
        "c2 = tf.keras.layers.Conv2D(128, (5, 5), activation='relu', kernel_initializer='he_normal', padding='same')(p1)\n",
        "#c2 = tf.keras.layers.Dropout(0.1)(c2)\n",
        "c2 = tf.keras.layers.Conv2D(128, (5, 5), activation='relu', kernel_initializer='he_normal', padding='same')(c2)\n",
        "p2 = tf.keras.layers.MaxPooling2D((2, 2))(c2)\n",
        "\n",
        "c3 = tf.keras.layers.Conv2D(256, (5, 5), activation='relu', kernel_initializer='he_normal', padding='same')(p2)\n",
        "#c3 = tf.keras.layers.Dropout(0.2)(c3)\n",
        "c3 = tf.keras.layers.Conv2D(256, (5, 5), activation='relu', kernel_initializer='he_normal', padding='same')(c3)\n",
        "p3 = tf.keras.layers.MaxPooling2D((2, 2))(c3)\n",
        "\n",
        "c4 = tf.keras.layers.Conv2D(512, (5, 5), activation='relu', kernel_initializer='he_normal', padding='same')(p3)\n",
        "#c4 = tf.keras.layers.Dropout(0.2)(c4)\n",
        "c4 = tf.keras.layers.Conv2D(512, (5, 5), activation='relu', kernel_initializer='he_normal', padding='same')(c4)\n",
        "p4 = tf.keras.layers.MaxPooling2D(pool_size=(2, 2))(c4)\n",
        "\n",
        "c5 = tf.keras.layers.Conv2D(1024, (3, 3), activation='relu', kernel_initializer='he_normal', padding='same')(p4)# changed (3,3) to (5,5)\n",
        "#c5 = tf.keras.layers.Dropout(0.3)(c5)\n",
        "c5 = tf.keras.layers.Conv2D(1024, (3, 3), activation='relu', kernel_initializer='he_normal', padding='same')(c5)\n",
        "\n",
        "#Expansive path\n",
        "u6 = tf.keras.layers.Conv2DTranspose(512, (2, 2), strides=(2, 2), padding='same')(c5)\n",
        "u6 = tf.keras.layers.concatenate([u6, c4])\n",
        "c6 = tf.keras.layers.Conv2D(512, (5, 5), activation='relu', kernel_initializer='he_normal', padding='same')(u6)\n",
        "#c6 = tf.keras.layers.Dropout(0.2)(c6)\n",
        "c6 = tf.keras.layers.Conv2D(512, (5, 5), activation='relu', kernel_initializer='he_normal', padding='same')(c6)\n",
        "\n",
        "u7 = tf.keras.layers.Conv2DTranspose(256, (2, 2), strides=(2, 2), padding='same')(c6)\n",
        "u7 = tf.keras.layers.concatenate([u7, c3])\n",
        "c7 = tf.keras.layers.Conv2D(256, (5, 5), activation='relu', kernel_initializer='he_normal', padding='same')(u7)\n",
        "#c7 = tf.keras.layers.Dropout(0.2)(c7)\n",
        "c7 = tf.keras.layers.Conv2D(256, (5, 5), activation='relu', kernel_initializer='he_normal', padding='same')(c7)\n",
        "\n",
        "u8 = tf.keras.layers.Conv2DTranspose(128, (2, 2), strides=(2, 2), padding='same')(c7)\n",
        "u8 = tf.keras.layers.concatenate([u8, c2])\n",
        "c8 = tf.keras.layers.Conv2D(128, (5, 5), activation='relu', kernel_initializer='he_normal', padding='same')(u8)\n",
        "#c8 = tf.keras.layers.Dropout(0.1)(c8)\n",
        "c8 = tf.keras.layers.Conv2D(128, (5, 5), activation='relu', kernel_initializer='he_normal', padding='same')(c8)\n",
        "\n",
        "u9 = tf.keras.layers.Conv2DTranspose(64, (2, 2), strides=(2, 2), padding='same')(c8)\n",
        "u9 = tf.keras.layers.concatenate([u9, c1], axis=3)\n",
        "c9 = tf.keras.layers.Conv2D(64, (5, 5), activation='relu', kernel_initializer='he_normal', padding='same')(u9)\n",
        "#c9 = tf.keras.layers.Dropout(0.1)(c9)\n",
        "c9 = tf.keras.layers.Conv2D(64, (5, 5), activation='relu', kernel_initializer='he_normal', padding='same')(c9)\n",
        "\n",
        "outputs = tf.keras.layers.Conv2D(1, (1, 1), activation='relu')(c9)\n",
        "\n",
        "model = tf.keras.Model(inputs=[inputs], outputs=[outputs])\n",
        "model.compile(optimizer=Adam(learning_rate=0.0001), loss='mean_squared_error', metrics=['accuracy'])\n",
        "model.summary()\n",
        "\n",
        "#model = tf.keras.models.load_model('Calderon_project1_simulated_tank_NoRot.h5')\n",
        "################################\n",
        "#Modelcheckpoint\n",
        "#checkpointer = tf.keras.callbacks.ModelCheckpoint('Calderon_project1_simulated_ellips.h5', verbose=1, save_best_only=True, save_freq=\"epoch\")\n",
        "#('name of the model.h5',verbose=1 means we can see something on the screen,  )\n",
        "\n",
        "#from tensorflow import keras\n",
        "\n",
        "###########\n",
        "# new_model = tf.keras.models.load_model('Calderon_project1_copperpipetank.h5')\n",
        "\n",
        "callbacks = [tf.keras.callbacks.ModelCheckpoint('Cal_ccm_1dot3_unif_dist_64_calib.h5', verbose=1, save_best_only=True, save_freq=\"epoch\"),     tf.keras.callbacks.EarlyStopping(patience=2, monitor='val_loss'),\n",
        "        tf.keras.callbacks.TensorBoard(log_dir='logs'), ReduceLROnPlateau(monitor = 'val_loss', factor = 0.5, patience = 3, verbose = 1)]\n",
        "\n",
        "results = model.fit(X_train, Y_train, validation_split=0.1, batch_size=128, epochs=100,  callbacks=callbacks)\n",
        "\n",
        "####################################\n",
        "preds_train = model.predict(X_train, verbose=1)\n",
        "preds_test = model.predict(X_test, verbose=1)\n",
        "\n",
        "########## draw results ####################\n",
        "ix = random.randint(0, len(X_test))\n",
        "print(ix)\n",
        "\n",
        "fig = plt.figure(figsize = (18,6))\n",
        "ax = fig.add_subplot(131)\n",
        "axp = ax.imshow(np.squeeze(X_test[ix].real),cmap='jet')\n",
        "ax.set_title('input data')\n",
        "cb = plt.colorbar(axp, ax =[ax], location = 'bottom')\n",
        "\n",
        "ax = fig.add_subplot(132)\n",
        "axp = ax.imshow(np.squeeze(Y_test[ix].real),cmap='jet')\n",
        "ax.set_title('Lable')\n",
        "cb = plt.colorbar(axp, ax =[ax], location = 'bottom')\n",
        "\n",
        "ax = fig.add_subplot(133)\n",
        "axp = ax.imshow(np.squeeze(preds_test[ix].real),cmap='jet')\n",
        "ax.set_title('output')\n",
        "cb = plt.colorbar(axp, ax =[ax], location = 'bottom')\n",
        "\n",
        "############################\n",
        "# fig = plt.figure(figsize = (18,6))\n",
        "# ax = fig.add_subplot(131)\n",
        "# axp = ax.imshow(np.squeeze(X_test[ix].imag),cmap='jet')\n",
        "# ax.set_title('input data')\n",
        "# cb = plt.colorbar(axp, ax =[ax], location = 'bottom')\n",
        "\n",
        "# ax = fig.add_subplot(132)\n",
        "# axp = ax.imshow(np.squeeze(Y_test[ix].imag),cmap='jet')\n",
        "# ax.set_title('Lable')\n",
        "# cb = plt.colorbar(axp, ax =[ax], location = 'bottom')\n",
        "\n",
        "# ax = fig.add_subplot(133)\n",
        "# axp = ax.imshow(np.squeeze(preds_test[ix].imag),cmap='jet')\n",
        "# ax.set_title('output')\n",
        "# cb = plt.colorbar(axp, ax =[ax], location = 'bottom')\n"
      ]
    },
    {
      "cell_type": "code",
      "execution_count": null,
      "metadata": {
        "colab": {
          "base_uri": "https://localhost:8080/",
          "height": 358
        },
        "id": "FGGCpJlZL4QF",
        "outputId": "ba691b99-e0da-49a2-eeac-70760134e039"
      },
      "outputs": [
        {
          "output_type": "stream",
          "name": "stdout",
          "text": [
            "385\n"
          ]
        },
        {
          "output_type": "display_data",
          "data": {
            "text/plain": [
              "<Figure size 1296x432 with 6 Axes>"
            ],
            "image/png": "[encoded data removed]"
          },
          "metadata": {
            "needs_background": "light"
          }
        }
      ],
      "source": [
        "\n",
        "ix = random.randint(0, len(X_test))\n",
        "print(ix)\n",
        "\n",
        "fig = plt.figure(figsize = (18,6))\n",
        "ax = fig.add_subplot(131)\n",
        "axp = ax.imshow(np.squeeze(X_test[ix].real),cmap='jet')\n",
        "ax.set_title('input data')\n",
        "cb = plt.colorbar(axp, ax =[ax], location = 'bottom')\n",
        "\n",
        "ax = fig.add_subplot(132)\n",
        "axp = ax.imshow(np.squeeze(Y_test[ix].real),cmap='jet')\n",
        "ax.set_title('Lable')\n",
        "cb = plt.colorbar(axp, ax =[ax], location = 'bottom')\n",
        "\n",
        "ax = fig.add_subplot(133)\n",
        "axp = ax.imshow(np.squeeze(preds_test[ix].real),cmap='jet')\n",
        "ax.set_title('output')\n",
        "cb = plt.colorbar(axp, ax =[ax], location = 'bottom')\n"
      ]
    },
    {
      "cell_type": "code",
      "source": [
        "import scipy\n",
        "\n",
        "file_path = 'X_test_abs_ccm_1dot3_unif_dist_64_calib.mat'\n",
        "scipy.io.savemat(file_path, {'X_test_abs_ccm_1dot3_unif_dist_64_calib': X_test})\n",
        "\n",
        "\n",
        "file_path = 'Y_test_abs_ccm_1dot3_unif_dist_64_calib.mat'\n",
        "scipy.io.savemat(file_path, {'Y_test_abs_ccm_1dot3_unif_dist_64_calib': Y_test})\n",
        "\n",
        "\n",
        "file_path = 'preds_test_abs_ccm_1dot3_unif_dist_64_calib.mat'\n",
        "scipy.io.savemat(file_path, {'preds_test_abs_ccm_1dot3_unif_dist_64_calib': preds_test})\n",
        "\n",
        "\n",
        "\n",
        "#######################\n",
        "\n",
        "file_path = 'X_train_abs_ccm_1dot3_unif_dist_64_calib.mat'\n",
        "scipy.io.savemat(file_path, {'X_train_abs_ccm_1dot3_unif_dist_64_calib': X_train})\n",
        "\n",
        "\n",
        "file_path = 'Y_train_copperpipetank.mat'\n",
        "scipy.io.savemat(file_path, {'Y_train_copperpipetank': Y_train})\n",
        "\n",
        "\n",
        "file_path = 'preds_train_copperpipetank.mat'\n",
        "scipy.io.savemat(file_path, {'preds_train_copperpipetank': preds_train})\n",
        "\n",
        "\n",
        "import os;\n",
        "print(os.getcwd())"
      ],
      "metadata": {
        "colab": {
          "base_uri": "https://localhost:8080/"
        },
        "id": "c4t0C6vpzx0b",
        "outputId": "7465b20b-9d05-4d92-90b7-4742e272851a"
      },
      "execution_count": null,
      "outputs": [
        {
          "output_type": "stream",
          "name": "stdout",
          "text": [
            "/content\n"
          ]
        }
      ]
    },
    {
      "cell_type": "code",
      "execution_count": null,
      "metadata": {
        "colab": {
          "base_uri": "https://localhost:8080/",
          "height": 503
        },
        "id": "j3diCi0Emklo",
        "outputId": "9fd17e04-4b04-42ae-a4fc-de226e6c1aee"
      },
      "outputs": [
        {
          "output_type": "stream",
          "name": "stdout",
          "text": [
            "maxc =  0.22405904233797852\n",
            "minc = 0.1648351168648315\n",
            "normc= 0.05922392547314703\n",
            "max_normal =  1.0\n",
            "min_normal = 0.0\n",
            "norm_normal = 1.0\n",
            "1/1 [==============================] - 0s 16ms/step\n",
            "maxpred =  1.1199758\n",
            "minpred = 0.0\n",
            "normpred= 1.1199758\n"
          ]
        },
        {
          "output_type": "display_data",
          "data": {
            "text/plain": [
              "<Figure size 864x432 with 6 Axes>"
            ],
            "image/png": "[encoded data removed]"
          },
          "metadata": {
            "needs_background": "light"
          }
        }
      ],
      "source": [
        "\n",
        "#ccm_abs_load=loadmat('/content/drive/My Drive/Colab Notebooks/recon_diff_ccm_tri_1dot3_64.mat');\n",
        "ccm_abs_load=loadmat('/content/recon_diff_ccm_tri_1dot3_64.mat');\n",
        "\n",
        "ccm_abs_load_real = ccm_abs_load[\"recon_diff\"].real\n",
        "ccm_abs_real = ccm_abs_load_real.reshape((1,IMG_WIDTH,IMG_HEIGHT,1))\n",
        "\n",
        "maxc = np.max(ccm_abs_real)\n",
        "minc = np.min(ccm_abs_real)\n",
        "normc = maxc - minc\n",
        "print('maxc = ', maxc)\n",
        "print('minc =', minc)\n",
        "print('normc=', normc)\n",
        "\n",
        "ccm_abs_real = (ccm_abs_real-minc)/normc\n",
        "\n",
        "max_normal = np.max(ccm_abs_real)\n",
        "min_normal = np.min(ccm_abs_real)\n",
        "norm_normal = max_normal - min_normal\n",
        "\n",
        "print('max_normal = ', max_normal)\n",
        "print('min_normal =', min_normal)\n",
        "print('norm_normal =', norm_normal)\n",
        "\n",
        "\n",
        "ccm_abs_pred = model.predict(ccm_abs_real, verbose=1)\n",
        "\n",
        "maxpred = np.max(ccm_abs_pred)\n",
        "minpred = np.min(ccm_abs_pred)\n",
        "normpred = maxpred - minpred\n",
        "\n",
        "print('maxpred = ', maxpred)\n",
        "print('minpred =', minpred)\n",
        "print('normpred=', normpred)\n",
        "\n",
        "##############################################\n",
        "fig = plt.figure(figsize = (12,6))\n",
        "ax = fig.add_subplot(131)\n",
        "axp = ax.imshow(np.squeeze(ccm_abs_pred),cmap='jet')\n",
        "ax.set_title('input data')\n",
        "cb = plt.colorbar(axp, ax =[ax], location = 'bottom')\n",
        "\n",
        "ax = fig.add_subplot(132)\n",
        "axp = ax.imshow(np.squeeze(ccm_abs_pred),cmap='jet')\n",
        "ax.set_title('output')\n",
        "cb = plt.colorbar(axp, ax =[ax], location = 'bottom')\n",
        "\n",
        "ax = fig.add_subplot(133)\n",
        "axp = ax.imshow(np.squeeze(ccm_abs_pred),cmap='jet')\n",
        "ax.set_title('output')\n",
        "cb = plt.colorbar(axp, ax =[ax], location = 'bottom')\n",
        "\n",
        "################################################\n",
        "import scipy\n",
        "\n",
        "file_path = 'preds_tank_diff_real_ccm_tri_1dot3_unif_dist_64_calib.mat'\n",
        "scipy.io.savemat(file_path, {'preds_tank_diff_real_ccm_tri_1dot3_unif_dist_64_calib': ccm_abs_pred})\n",
        "\n"
      ]
    },
    {
      "cell_type": "code",
      "source": [
        "\n",
        "#ccm_abs_load=loadmat('/content/drive/My Drive/Colab Notebooks/recon_diff_ccm_tri_1dot3_64.mat');\n",
        "ccm_abs_load=mat73.loadmat('/content/delta_diff_test4.mat');\n",
        "ccm_abs_load_real = ccm_abs_load[\"delta_diff_scaled\"].real\n",
        "ccm_abs_load_imag = ccm_abs_load[\"delta_diff_scaled\"].imag\n",
        "ccm_abs_real = ccm_abs_load_real.reshape((1,IMG_WIDTH,IMG_HEIGHT,1))\n",
        "ccm_abs_imag = ccm_abs_load_imag.reshape((1,IMG_WIDTH,IMG_HEIGHT,1))\n",
        "\n",
        "\n",
        "maxc = np.max(ccm_abs_real)\n",
        "minc = np.min(ccm_abs_real)\n",
        "normc = maxc - minc\n",
        "\n",
        "ccm_abs_real = (ccm_abs_real-minc)/normc\n",
        "\n",
        "\n",
        "maxc = np.max(ccm_abs_imag)\n",
        "minc = np.min(ccm_abs_imag)\n",
        "normc = maxc - minc\n",
        "\n",
        "ccm_abs_imag = (ccm_abs_imag-minc)/normc\n",
        "\n",
        "\n",
        "pred_ccm_abs_real = model.predict(ccm_abs_real, verbose=1)\n",
        "\n",
        "pred_ccm_abs_imag = model.predict(ccm_abs_imag, verbose=1)\n",
        "\n",
        "\n",
        "##############################################\n",
        "fig = plt.figure(figsize = (8,6))\n",
        "\n",
        "ax = fig.add_subplot(221)\n",
        "axp = ax.imshow(np.squeeze(ccm_abs_real),cmap='jet')\n",
        "ax.set_title('input data')\n",
        "cb = plt.colorbar(axp, ax =[ax], location = 'bottom')\n",
        "\n",
        "ax = fig.add_subplot(222)\n",
        "axp = ax.imshow(np.squeeze(pred_ccm_abs_real),cmap='jet')\n",
        "ax.set_title('output')\n",
        "cb = plt.colorbar(axp, ax =[ax], location = 'bottom')\n",
        "\n",
        "\n",
        "ax = fig.add_subplot(223)\n",
        "axp = ax.imshow(np.squeeze(ccm_abs_imag),cmap='jet')\n",
        "ax.set_title('input data')\n",
        "cb = plt.colorbar(axp, ax =[ax], location = 'bottom')\n",
        "\n",
        "ax = fig.add_subplot(224)\n",
        "axp = ax.imshow(np.squeeze(pred_ccm_abs_imag),cmap='jet')\n",
        "ax.set_title('output')\n",
        "cb = plt.colorbar(axp, ax =[ax], location = 'bottom')\n",
        "\n",
        "\n",
        "###############################################\n",
        "import scipy\n",
        "pred_ccm_diff_real =pred_ccm_abs_real\n",
        "pred_ccm_diff_imag =pred_ccm_abs_imag\n",
        "\n",
        "\n",
        "file_path = 'preds_tank_diff_real_ccm_test4.mat'\n",
        "scipy.io.savemat(file_path, {'preds_tank_diff_real_ccm_test4': pred_ccm_diff_real})\n",
        "\n",
        "file_path = 'preds_tank_diff_imag_ccm_test4.mat'\n",
        "scipy.io.savemat(file_path, {'preds_tank_diff_imag_ccm_test4': pred_ccm_diff_imag})"
      ],
      "metadata": {
        "colab": {
          "base_uri": "https://localhost:8080/",
          "height": 415
        },
        "id": "shlws9zo_d77",
        "outputId": "5630c060-d9ab-419e-9418-5688e1d3c42f"
      },
      "execution_count": null,
      "outputs": [
        {
          "output_type": "stream",
          "name": "stdout",
          "text": [
            "1/1 [==============================] - 0s 25ms/step\n",
            "1/1 [==============================] - 0s 19ms/step\n"
          ]
        },
        {
          "output_type": "display_data",
          "data": {
            "text/plain": [
              "<Figure size 576x432 with 8 Axes>"
            ],
            "image/png": "[encoded data removed]"
          },
          "metadata": {
            "needs_background": "light"
          }
        }
      ]
    },
    {
      "cell_type": "code",
      "execution_count": null,
      "metadata": {
        "id": "kYKWNsRbta9S"
      },
      "outputs": [],
      "source": [
        "\n",
        "pipe1_diff=loadmat('/content/drive/My Drive/Colab Notebooks/gamma_diff_pipe_1dot3.mat');\n",
        "pipe2_diff=loadmat('/content/drive/My Drive/Colab Notebooks/gamma_diff_pipe_2order_1dot3.mat');\n",
        "pipe1_abs=loadmat('/content/drive/My Drive/Colab Notebooks/gamma_abs_pipe_1dot3.mat');\n",
        "pipe2_abs=loadmat('/content/drive/My Drive/Colab Notebooks/gamma_abs_pipe_2order_1dot3.mat');\n",
        "\n",
        "pipe1_diff = pipe1_diff[\"recon_diff_noprior\"].real\n",
        "pipe2_diff = pipe2_diff[\"recon_diff_noprior_second\"].real\n",
        "pipe1_abs = pipe1_abs[\"gamma_abs_noprior\"].real\n",
        "pipe2_abs = pipe2_abs[\"gamma_abs_noprior_second_order\"].real\n",
        "\n",
        "\n",
        "pipe1_diff = pipe1_diff.reshape((1,128,128,1))\n",
        "pipe2_diff = pipe2_diff.reshape((1,128,128,1))\n",
        "pipe1_abs = pipe1_abs.reshape((1,128,128,1))\n",
        "pipe2_abs = pipe2_abs.reshape((1,128,128,1))\n",
        "\n",
        "\n",
        "#data = data.reshape((data.shape[0], data.shape[1], 1))\n",
        "pipe1_diff_pred = model.predict(pipe1_diff, verbose=1)\n",
        "pipe2_diff_pred = model.predict(pipe2_diff, verbose=1)\n",
        "pipe1_abs_pred = model.predict(pipe1_abs, verbose=1)\n",
        "pipe2_abs_pred = model.predict(pipe2_abs, verbose=1)\n",
        "\n",
        "\n",
        "import scipy\n",
        "\n",
        "file_path = 'pipe1_diff_pred_1dot2_dot1.mat'\n",
        "scipy.io.savemat(file_path, {'pipe1_diff_pred':pipe1_diff_pred})\n",
        "\n",
        "\n",
        "file_path = 'pipe2_diff_pred_1dot2_dot1.mat'\n",
        "scipy.io.savemat(file_path, {'pipe2_diff_pred': pipe2_diff_pred})\n",
        "\n",
        "\n",
        "\n",
        "###############################################\n",
        "fig = plt.figure(figsize = (12,6))\n",
        "ax = fig.add_subplot(121)\n",
        "axp = ax.imshow(np.squeeze(pipe1_diff),cmap='jet')\n",
        "ax.set_title('input data')\n",
        "cb = plt.colorbar(axp, ax =[ax], location = 'bottom')\n",
        "\n",
        "ax = fig.add_subplot(122)\n",
        "axp = ax.imshow(np.squeeze(pipe1_diff_pred),cmap='jet')\n",
        "ax.set_title('output')\n",
        "cb = plt.colorbar(axp, ax =[ax], location = 'bottom')\n",
        "\n",
        "##################\n",
        "fig = plt.figure(figsize = (12,6))\n",
        "ax = fig.add_subplot(121)\n",
        "axp = ax.imshow(np.squeeze(pipe2_diff),cmap='jet')\n",
        "ax.set_title('input data')\n",
        "cb = plt.colorbar(axp, ax =[ax], location = 'bottom')\n",
        "\n",
        "ax = fig.add_subplot(122)\n",
        "axp = ax.imshow(np.squeeze(pipe2_diff_pred),cmap='jet')\n",
        "ax.set_title('output')\n",
        "cb = plt.colorbar(axp, ax =[ax], location = 'bottom')\n",
        "##########################################\n",
        "fig = plt.figure(figsize = (12,6))\n",
        "ax = fig.add_subplot(121)\n",
        "axp = ax.imshow(np.squeeze(pipe1_abs),cmap='jet')\n",
        "ax.set_title('input data')\n",
        "cb = plt.colorbar(axp, ax =[ax], location = 'bottom')\n",
        "\n",
        "ax = fig.add_subplot(122)\n",
        "axp = ax.imshow(np.squeeze(pipe1_abs_pred),cmap='jet')\n",
        "ax.set_title('output')\n",
        "cb = plt.colorbar(axp, ax =[ax], location = 'bottom')\n",
        "##########################################\n",
        "fig = plt.figure(figsize = (12,6))\n",
        "ax = fig.add_subplot(121)\n",
        "axp = ax.imshow(np.squeeze(pipe2_abs),cmap='jet')\n",
        "ax.set_title('input data')\n",
        "cb = plt.colorbar(axp, ax =[ax], location = 'bottom')\n",
        "\n",
        "ax = fig.add_subplot(122)\n",
        "axp = ax.imshow(np.squeeze(pipe2_abs_pred),cmap='jet')\n",
        "ax.set_title('output')\n",
        "cb = plt.colorbar(axp, ax =[ax], location = 'bottom')\n",
        "\n"
      ]
    },
    {
      "cell_type": "code",
      "execution_count": null,
      "metadata": {
        "id": "SlW15EKvmjCC"
      },
      "outputs": [],
      "source": []
    },
    {
      "cell_type": "code",
      "execution_count": null,
      "metadata": {
        "id": "7Z2dgHDX3E2h"
      },
      "outputs": [],
      "source": [
        "plt.plot(results.history['loss'], label = 'train')\n",
        "plt.plot(results.history['val_loss'],label = 'validation')\n",
        "plt.title('Loss Trend')\n",
        "plt.ylabel('loss')\n",
        "plt.xlabel('epoch')\n",
        "plt.legend(loc='best')\n",
        "plt.grid()\n",
        "plt.show()\n",
        "\n"
      ]
    },
    {
      "cell_type": "code",
      "execution_count": null,
      "metadata": {
        "id": "tYxudKqRPS1Z"
      },
      "outputs": [],
      "source": [
        "print(preds_test.shape)\n",
        "print(type(preds_test))\n"
      ]
    },
    {
      "cell_type": "code",
      "execution_count": null,
      "metadata": {
        "id": "mVh0siHKhST8"
      },
      "outputs": [],
      "source": [
        "import scipy\n",
        "\n",
        "file_path = 'X_test_copperpipetank.mat'\n",
        "scipy.io.savemat(file_path, {'X_test_copperpipetank': X_test})\n",
        "\n",
        "\n",
        "file_path = 'Y_test_copperpipetank.mat'\n",
        "scipy.io.savemat(file_path, {'Y_test_copperpipetank': Y_test})\n",
        "\n",
        "\n",
        "file_path = 'preds_test_copperpipetank.mat'\n",
        "scipy.io.savemat(file_path, {'preds_test_copperpipetank': preds_test})\n",
        "\n",
        "\n",
        "\n",
        "#######################\n",
        "\n",
        "file_path = 'X_train_copperpipetank.mat'\n",
        "scipy.io.savemat(file_path, {'X_train_copperpipetank': X_test})\n",
        "\n",
        "\n",
        "file_path = 'Y_train_copperpipetank.mat'\n",
        "scipy.io.savemat(file_path, {'Y_train_copperpipetank': Y_test})\n",
        "\n",
        "\n",
        "file_path = 'preds_train_copperpipetank.mat'\n",
        "scipy.io.savemat(file_path, {'preds_train_copperpipetank': preds_test})\n",
        "\n",
        "\n",
        "import os;\n",
        "print(os.getcwd())"
      ]
    },
    {
      "cell_type": "markdown",
      "metadata": {
        "id": "TeLwZxMTn9U_"
      },
      "source": [
        "# Trainging by using previous network\n"
      ]
    },
    {
      "cell_type": "code",
      "execution_count": null,
      "metadata": {
        "colab": {
          "base_uri": "https://localhost:8080/"
        },
        "id": "Hp7j3jlZ2ksP",
        "outputId": "97a8be1b-1276-4ae3-ee9e-0328738f95ca"
      },
      "outputs": [
        {
          "name": "stdout",
          "output_type": "stream",
          "text": [
            "Looking in indexes: https://pypi.org/simple, https://us-python.pkg.dev/colab-wheels/public/simple/\n",
            "Requirement already satisfied: mat73 in /usr/local/lib/python3.8/dist-packages (0.59)\n",
            "Requirement already satisfied: h5py in /usr/local/lib/python3.8/dist-packages (from mat73) (3.1.0)\n",
            "Requirement already satisfied: numpy in /usr/local/lib/python3.8/dist-packages (from mat73) (1.21.6)\n"
          ]
        }
      ],
      "source": [
        "pip install mat73\n"
      ]
    },
    {
      "cell_type": "code",
      "execution_count": null,
      "metadata": {
        "colab": {
          "base_uri": "https://localhost:8080/"
        },
        "id": "2JON6PWU6hx6",
        "outputId": "f6989788-60b3-46fe-c608-0c089ab012df"
      },
      "outputs": [
        {
          "name": "stdout",
          "output_type": "stream",
          "text": [
            "(128, 128, 8192)\n",
            "(128, 128, 8192)\n",
            "8192\n",
            "(8192, 128, 128, 1)\n",
            "(8192, 128, 128, 1)\n",
            "(7372, 128, 128, 1)\n",
            "(820, 128, 128, 1)\n",
            "(7372, 128, 128, 1)\n",
            "(820, 128, 128, 1)\n"
          ]
        }
      ],
      "source": [
        "\n",
        "import mat73\n",
        "from scipy.io import loadmat\n",
        "from skimage.io import imread, imshow\n",
        "import matplotlib.pyplot as plt\n",
        "import numpy as np\n",
        "\n",
        "\n",
        "C=loadmat('/content/drive/My Drive/Colab Notebooks/phantom_copper_pipe_tank_multi_delta.mat');\n",
        "#print(C)\n",
        "Recon = mat73.loadmat('/content/drive/My Drive/Colab Notebooks/delta_diff_scaled_copperpipetank_mat_1dot4_scale1dot1.mat')\n",
        "#print(Recon)\n",
        "c_mat_import = C[\"phantom_copper_pipe_tank_multi\"]\n",
        "Recon_import = Recon[\"delta_diff_scaled_mat\"]\n",
        "\n",
        "print(Recon_import.shape)\n",
        "print(c_mat_import.shape)\n",
        "print(Recon_import.shape[2])\n",
        "\n",
        "\n",
        "IMG_WIDTH = 128\n",
        "IMG_HEIGHT = 128\n",
        "IMG_CHANNELS = 1\n",
        "\n",
        "X_Data = np.zeros((Recon_import.shape[2], IMG_HEIGHT, IMG_WIDTH, IMG_CHANNELS), dtype=np.float64)\n",
        "Y_Data = np.zeros((c_mat_import.shape[2], IMG_HEIGHT,IMG_WIDTH,IMG_CHANNELS), dtype=np.float64)\n",
        "\n",
        "iter = range(Recon_import.shape[2])\n",
        "\n",
        "for n in iter:\n",
        "  X_Data[n] =Recon_import[:,:,n].real.reshape(IMG_WIDTH,IMG_HEIGHT,1)\n",
        "  Y_Data[n] =c_mat_import[:,:,n].reshape(IMG_WIDTH,IMG_HEIGHT,1)\n",
        "\n",
        "\n",
        "print(X_Data.shape)\n",
        "print(Y_Data.shape)\n",
        "\n",
        "from sklearn.model_selection import train_test_split\n",
        "X_train, X_test, Y_train, Y_test = train_test_split(X_Data, Y_Data, test_size = 0.10, random_state = 42)\n",
        "print(X_train.shape)\n",
        "print(X_test.shape)\n",
        "print(Y_train.shape)\n",
        "print(Y_test.shape)\n"
      ]
    },
    {
      "cell_type": "code",
      "execution_count": null,
      "metadata": {
        "colab": {
          "base_uri": "https://localhost:8080/",
          "height": 1000
        },
        "id": "qmTUXcQYNBbw",
        "outputId": "d111321a-2fb5-4533-a1a9-351350af33ee"
      },
      "outputs": [
        {
          "name": "stdout",
          "output_type": "stream",
          "text": [
            "Epoch 1/100\n",
            "52/52 [==============================] - ETA: 0s - loss: 0.0021 - accuracy: 0.6592\n",
            "Epoch 1: val_loss improved from inf to 0.00212, saving model to Calderon_project1_copperpipetank.h5\n",
            "52/52 [==============================] - 224s 3s/step - loss: 0.0021 - accuracy: 0.6592 - val_loss: 0.0021 - val_accuracy: 0.6740 - lr: 5.0000e-05\n",
            "Epoch 2/100\n",
            "52/52 [==============================] - ETA: 0s - loss: 0.0020 - accuracy: 0.6592\n",
            "Epoch 2: val_loss improved from 0.00212 to 0.00196, saving model to Calderon_project1_copperpipetank.h5\n",
            "52/52 [==============================] - 128s 2s/step - loss: 0.0020 - accuracy: 0.6592 - val_loss: 0.0020 - val_accuracy: 0.6740 - lr: 5.0000e-05\n",
            "Epoch 3/100\n",
            "52/52 [==============================] - ETA: 0s - loss: 0.0019 - accuracy: 0.6592\n",
            "Epoch 3: val_loss did not improve from 0.00196\n",
            "52/52 [==============================] - 125s 2s/step - loss: 0.0019 - accuracy: 0.6592 - val_loss: 0.0020 - val_accuracy: 0.6740 - lr: 5.0000e-05\n",
            "Epoch 4/100\n",
            "52/52 [==============================] - ETA: 0s - loss: 0.0018 - accuracy: 0.6592\n",
            "Epoch 4: val_loss improved from 0.00196 to 0.00181, saving model to Calderon_project1_copperpipetank.h5\n",
            "52/52 [==============================] - 128s 2s/step - loss: 0.0018 - accuracy: 0.6592 - val_loss: 0.0018 - val_accuracy: 0.6740 - lr: 5.0000e-05\n",
            "Epoch 5/100\n",
            "52/52 [==============================] - ETA: 0s - loss: 0.0016 - accuracy: 0.6592\n",
            "Epoch 5: val_loss improved from 0.00181 to 0.00169, saving model to Calderon_project1_copperpipetank.h5\n",
            "52/52 [==============================] - 128s 2s/step - loss: 0.0016 - accuracy: 0.6592 - val_loss: 0.0017 - val_accuracy: 0.6740 - lr: 5.0000e-05\n",
            "Epoch 6/100\n",
            "52/52 [==============================] - ETA: 0s - loss: 0.0015 - accuracy: 0.6592\n",
            "Epoch 6: val_loss improved from 0.00169 to 0.00153, saving model to Calderon_project1_copperpipetank.h5\n",
            "52/52 [==============================] - 128s 2s/step - loss: 0.0015 - accuracy: 0.6592 - val_loss: 0.0015 - val_accuracy: 0.6740 - lr: 5.0000e-05\n",
            "Epoch 7/100\n",
            "52/52 [==============================] - ETA: 0s - loss: 0.0014 - accuracy: 0.6592\n",
            "Epoch 7: val_loss improved from 0.00153 to 0.00151, saving model to Calderon_project1_copperpipetank.h5\n",
            "52/52 [==============================] - 128s 2s/step - loss: 0.0014 - accuracy: 0.6592 - val_loss: 0.0015 - val_accuracy: 0.6740 - lr: 5.0000e-05\n",
            "Epoch 8/100\n",
            "52/52 [==============================] - ETA: 0s - loss: 0.0014 - accuracy: 0.6592\n",
            "Epoch 8: val_loss did not improve from 0.00151\n",
            "52/52 [==============================] - 125s 2s/step - loss: 0.0014 - accuracy: 0.6592 - val_loss: 0.0015 - val_accuracy: 0.6740 - lr: 5.0000e-05\n",
            "Epoch 9/100\n",
            "52/52 [==============================] - ETA: 0s - loss: 0.0014 - accuracy: 0.6592\n",
            "Epoch 9: val_loss improved from 0.00151 to 0.00147, saving model to Calderon_project1_copperpipetank.h5\n",
            "\n",
            "Epoch 9: ReduceLROnPlateau reducing learning rate to 2.499999936844688e-05.\n",
            "52/52 [==============================] - 128s 2s/step - loss: 0.0014 - accuracy: 0.6592 - val_loss: 0.0015 - val_accuracy: 0.6740 - lr: 5.0000e-05\n",
            "Epoch 10/100\n",
            "52/52 [==============================] - ETA: 0s - loss: 0.0013 - accuracy: 0.6592\n",
            "Epoch 10: val_loss improved from 0.00147 to 0.00134, saving model to Calderon_project1_copperpipetank.h5\n",
            "52/52 [==============================] - 128s 2s/step - loss: 0.0013 - accuracy: 0.6592 - val_loss: 0.0013 - val_accuracy: 0.6740 - lr: 2.5000e-05\n",
            "Epoch 11/100\n",
            "52/52 [==============================] - ETA: 0s - loss: 0.0013 - accuracy: 0.6592\n",
            "Epoch 11: val_loss did not improve from 0.00134\n",
            "52/52 [==============================] - 125s 2s/step - loss: 0.0013 - accuracy: 0.6592 - val_loss: 0.0014 - val_accuracy: 0.6740 - lr: 2.5000e-05\n",
            "Epoch 12/100\n",
            "52/52 [==============================] - ETA: 0s - loss: 0.0013 - accuracy: 0.6592\n",
            "Epoch 12: val_loss improved from 0.00134 to 0.00133, saving model to Calderon_project1_copperpipetank.h5\n",
            "52/52 [==============================] - 128s 2s/step - loss: 0.0013 - accuracy: 0.6592 - val_loss: 0.0013 - val_accuracy: 0.6740 - lr: 2.5000e-05\n",
            "Epoch 13/100\n",
            "52/52 [==============================] - ETA: 0s - loss: 0.0013 - accuracy: 0.6592\n",
            "Epoch 13: val_loss improved from 0.00133 to 0.00132, saving model to Calderon_project1_copperpipetank.h5\n",
            "\n",
            "Epoch 13: ReduceLROnPlateau reducing learning rate to 1.249999968422344e-05.\n",
            "52/52 [==============================] - 128s 2s/step - loss: 0.0013 - accuracy: 0.6592 - val_loss: 0.0013 - val_accuracy: 0.6740 - lr: 2.5000e-05\n",
            "Epoch 14/100\n",
            "52/52 [==============================] - ETA: 0s - loss: 0.0012 - accuracy: 0.6592\n",
            "Epoch 14: val_loss improved from 0.00132 to 0.00130, saving model to Calderon_project1_copperpipetank.h5\n",
            "52/52 [==============================] - 128s 2s/step - loss: 0.0012 - accuracy: 0.6592 - val_loss: 0.0013 - val_accuracy: 0.6740 - lr: 1.2500e-05\n",
            "Epoch 15/100\n",
            "52/52 [==============================] - ETA: 0s - loss: 0.0012 - accuracy: 0.6592\n",
            "Epoch 15: val_loss improved from 0.00130 to 0.00130, saving model to Calderon_project1_copperpipetank.h5\n",
            "52/52 [==============================] - 126s 2s/step - loss: 0.0012 - accuracy: 0.6592 - val_loss: 0.0013 - val_accuracy: 0.6740 - lr: 1.2500e-05\n",
            "Epoch 16/100\n",
            "52/52 [==============================] - ETA: 0s - loss: 0.0012 - accuracy: 0.6592\n",
            "Epoch 16: val_loss improved from 0.00130 to 0.00129, saving model to Calderon_project1_copperpipetank.h5\n",
            "\n",
            "Epoch 16: ReduceLROnPlateau reducing learning rate to 6.24999984211172e-06.\n",
            "52/52 [==============================] - 127s 2s/step - loss: 0.0012 - accuracy: 0.6592 - val_loss: 0.0013 - val_accuracy: 0.6740 - lr: 1.2500e-05\n",
            "Epoch 17/100\n",
            "52/52 [==============================] - ETA: 0s - loss: 0.0012 - accuracy: 0.6592\n",
            "Epoch 17: val_loss improved from 0.00129 to 0.00128, saving model to Calderon_project1_copperpipetank.h5\n",
            "52/52 [==============================] - 128s 2s/step - loss: 0.0012 - accuracy: 0.6592 - val_loss: 0.0013 - val_accuracy: 0.6740 - lr: 6.2500e-06\n",
            "Epoch 18/100\n",
            "52/52 [==============================] - ETA: 0s - loss: 0.0012 - accuracy: 0.6592\n",
            "Epoch 18: val_loss improved from 0.00128 to 0.00128, saving model to Calderon_project1_copperpipetank.h5\n",
            "52/52 [==============================] - 127s 2s/step - loss: 0.0012 - accuracy: 0.6592 - val_loss: 0.0013 - val_accuracy: 0.6740 - lr: 6.2500e-06\n",
            "Epoch 19/100\n",
            "52/52 [==============================] - ETA: 0s - loss: 0.0012 - accuracy: 0.6592\n",
            "Epoch 19: val_loss improved from 0.00128 to 0.00128, saving model to Calderon_project1_copperpipetank.h5\n",
            "\n",
            "Epoch 19: ReduceLROnPlateau reducing learning rate to 3.12499992105586e-06.\n",
            "52/52 [==============================] - 128s 2s/step - loss: 0.0012 - accuracy: 0.6592 - val_loss: 0.0013 - val_accuracy: 0.6740 - lr: 6.2500e-06\n",
            "Epoch 20/100\n",
            "52/52 [==============================] - ETA: 0s - loss: 0.0012 - accuracy: 0.6592\n",
            "Epoch 20: val_loss improved from 0.00128 to 0.00128, saving model to Calderon_project1_copperpipetank.h5\n",
            "52/52 [==============================] - 127s 2s/step - loss: 0.0012 - accuracy: 0.6592 - val_loss: 0.0013 - val_accuracy: 0.6740 - lr: 3.1250e-06\n",
            "Epoch 21/100\n",
            "52/52 [==============================] - ETA: 0s - loss: 0.0012 - accuracy: 0.6592\n",
            "Epoch 21: val_loss improved from 0.00128 to 0.00127, saving model to Calderon_project1_copperpipetank.h5\n",
            "52/52 [==============================] - 128s 2s/step - loss: 0.0012 - accuracy: 0.6592 - val_loss: 0.0013 - val_accuracy: 0.6740 - lr: 3.1250e-06\n",
            "Epoch 22/100\n",
            "52/52 [==============================] - ETA: 0s - loss: 0.0012 - accuracy: 0.6592\n",
            "Epoch 22: val_loss improved from 0.00127 to 0.00127, saving model to Calderon_project1_copperpipetank.h5\n",
            "\n",
            "Epoch 22: ReduceLROnPlateau reducing learning rate to 1.56249996052793e-06.\n",
            "52/52 [==============================] - 128s 2s/step - loss: 0.0012 - accuracy: 0.6592 - val_loss: 0.0013 - val_accuracy: 0.6740 - lr: 3.1250e-06\n",
            "Epoch 23/100\n",
            "52/52 [==============================] - ETA: 0s - loss: 0.0012 - accuracy: 0.6592\n",
            "Epoch 23: val_loss did not improve from 0.00127\n",
            "52/52 [==============================] - 123s 2s/step - loss: 0.0012 - accuracy: 0.6592 - val_loss: 0.0013 - val_accuracy: 0.6740 - lr: 1.5625e-06\n",
            "Epoch 24/100\n",
            "52/52 [==============================] - ETA: 0s - loss: 0.0012 - accuracy: 0.6592\n",
            "Epoch 24: val_loss did not improve from 0.00127\n",
            "52/52 [==============================] - 124s 2s/step - loss: 0.0012 - accuracy: 0.6592 - val_loss: 0.0013 - val_accuracy: 0.6740 - lr: 1.5625e-06\n",
            "5739\n"
          ]
        },
        {
          "data": {
            "text/plain": [
              "<function matplotlib.pyplot.show(*args, **kw)>"
            ]
          },
          "execution_count": 25,
          "metadata": {},
          "output_type": "execute_result"
        },
        {
          "data": {
            "image/png": "[encoded data removed]",
            "text/plain": [
              "<Figure size 864x432 with 2 Axes>"
            ]
          },
          "metadata": {},
          "output_type": "display_data"
        }
      ],
      "source": [
        "from scipy.io import loadmat\n",
        "from skimage.io import imread, imshow\n",
        "import matplotlib.pyplot as plt\n",
        "import numpy as np\n",
        "import tensorflow as tf\n",
        "import os\n",
        "import random\n",
        "from tqdm import tqdm\n",
        "from skimage.transform import resize\n",
        "from keras.optimizers import Adam\n",
        "from tensorflow.keras.callbacks import ReduceLROnPlateau\n",
        "\n",
        "from tensorflow.keras.preprocessing.image import load_img\n",
        "\n",
        "from tensorflow.keras.preprocessing.image import img_to_array\n",
        "from tensorflow import keras\n",
        "\n",
        "###########\n",
        "new_model = tf.keras.models.load_model('Calderon_project1_copperpipetank.h5')\n",
        "#model.summary()\n",
        "callbacks = [tf.keras.callbacks.ModelCheckpoint('Calderon_project1_copperpipetank.h5', verbose=1, save_best_only=True, save_freq=\"epoch\"),     tf.keras.callbacks.EarlyStopping(patience=2, monitor='val_loss'),\n",
        "        tf.keras.callbacks.TensorBoard(log_dir='logs'), ReduceLROnPlateau(monitor = 'val_loss', factor = 0.5, patience = 3, verbose = 1)]\n",
        "\n",
        "results =new_model.fit(X_train, Y_train, validation_split=0.1, batch_size=128, epochs=100,  callbacks=callbacks)\n",
        "\n",
        "xmx=np.amax(X_Data)\n",
        "xmn=np.amin(X_Data)\n",
        "\n",
        "ymx=np.amax(Y_Data)\n",
        "ymn=np.amin(Y_Data)\n",
        "\n",
        "\n",
        "ix = random.randint(0, len(X_Data))\n",
        "print(ix)\n",
        "plt.figure(figsize = (12,6))\n",
        "plt.subplot(121)\n",
        "plt.imshow(np.squeeze(X_Data[ix]),cmap='jet',vmin = xmn, vmax=xmx)\n",
        "plt.subplot(122)\n",
        "plt.imshow(np.squeeze(Y_Data[ix]),cmap='jet',vmin=ymn, vmax=ymx)\n",
        "plt.show\n",
        "\n"
      ]
    },
    {
      "cell_type": "code",
      "execution_count": null,
      "metadata": {
        "colab": {
          "base_uri": "https://localhost:8080/"
        },
        "id": "HpyyL_XQOllD",
        "outputId": "6d174c29-fc10-4bda-bcec-c60fa926a772"
      },
      "outputs": [
        {
          "name": "stdout",
          "output_type": "stream",
          "text": [
            "26/26 [==============================] - 5s 177ms/step\n"
          ]
        }
      ],
      "source": [
        "\n",
        "##########\n",
        "#preds_train = model.predict(X_train, verbose=1)\n",
        "preds_test = new_model.predict(X_test, verbose=1)\n",
        "\n",
        "\n",
        "pmx=np.amax(preds_test)\n",
        "pmn=np.amin(preds_test)\n"
      ]
    },
    {
      "cell_type": "code",
      "execution_count": null,
      "metadata": {
        "id": "LkvVLCjqoXJW"
      },
      "outputs": [],
      "source": [
        "ix = random.randint(0, len(X_Data))\n",
        "print(ix)\n",
        "\n",
        "fig = plt.figure(figsize = (18,6))\n",
        "ax = fig.add_subplot(131)\n",
        "axp = ax.imshow(np.squeeze(X_Data[ix]),cmap='jet',vmin=xmn, vmax= xmx)\n",
        "ax.set_title('input data')\n",
        "cb = plt.colorbar(axp, ax =[ax], location = 'bottom')\n",
        "\n",
        "ax = fig.add_subplot(132)\n",
        "axp = ax.imshow(np.squeeze(Y_Data[ix]),cmap='jet',vmin=ymn, vmax= ymx)\n",
        "ax.set_title('Lable')\n",
        "cb = plt.colorbar(axp, ax =[ax], location = 'bottom')\n",
        "\n",
        "ax = fig.add_subplot(133)\n",
        "axp = ax.imshow(np.squeeze(preds_test[ix]),cmap='jet',vmin=ymn, vmax= ymx)\n",
        "ax.set_title('output')\n",
        "cb = plt.colorbar(axp, ax =[ax], location = 'bottom')"
      ]
    },
    {
      "cell_type": "code",
      "execution_count": null,
      "metadata": {
        "id": "g29s7wZQoXL-"
      },
      "outputs": [],
      "source": []
    }
  ],
  "metadata": {
    "accelerator": "GPU",
    "colab": {
      "machine_shape": "hm",
      "provenance": [],
      "gpuClass": "premium"
    },
    "gpuClass": "premium",
    "kernelspec": {
      "display_name": "Python 3",
      "name": "python3"
    },
    "language_info": {
      "name": "python"
    }
  },
  "nbformat": 4,
  "nbformat_minor": 0
}